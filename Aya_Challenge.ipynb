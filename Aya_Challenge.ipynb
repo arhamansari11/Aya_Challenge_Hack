{
  "nbformat": 4,
  "nbformat_minor": 0,
  "metadata": {
    "colab": {
      "provenance": []
    },
    "kernelspec": {
      "name": "python3",
      "display_name": "Python 3"
    },
    "language_info": {
      "name": "python"
    }
  },
  "cells": [
    {
      "cell_type": "markdown",
      "source": [
        "# **Required Libraries**"
      ],
      "metadata": {
        "id": "0hrKlZ2t_QSI"
      }
    },
    {
      "cell_type": "code",
      "source": [
        "!pip install googletrans==4.0.0-rc1\n",
        "!pip install --upgrade httpcore==0.9\n",
        "!pip install Translator\n",
        "!pip install cohere"
      ],
      "metadata": {
        "colab": {
          "base_uri": "https://localhost:8080/"
        },
        "id": "sJG_vTXM_O1E",
        "outputId": "4e9ec0d9-af70-4a51-d439-f2065efe3003"
      },
      "execution_count": null,
      "outputs": [
        {
          "output_type": "stream",
          "name": "stdout",
          "text": [
            "Requirement already satisfied: googletrans==4.0.0-rc1 in /usr/local/lib/python3.10/dist-packages (4.0.0rc1)\n",
            "Requirement already satisfied: httpx==0.13.3 in /usr/local/lib/python3.10/dist-packages (from googletrans==4.0.0-rc1) (0.13.3)\n",
            "Requirement already satisfied: certifi in /usr/local/lib/python3.10/dist-packages (from httpx==0.13.3->googletrans==4.0.0-rc1) (2024.2.2)\n",
            "Requirement already satisfied: hstspreload in /usr/local/lib/python3.10/dist-packages (from httpx==0.13.3->googletrans==4.0.0-rc1) (2024.2.1)\n",
            "Requirement already satisfied: sniffio in /usr/local/lib/python3.10/dist-packages (from httpx==0.13.3->googletrans==4.0.0-rc1) (1.3.0)\n",
            "Requirement already satisfied: chardet==3.* in /usr/local/lib/python3.10/dist-packages (from httpx==0.13.3->googletrans==4.0.0-rc1) (3.0.4)\n",
            "Requirement already satisfied: idna==2.* in /usr/local/lib/python3.10/dist-packages (from httpx==0.13.3->googletrans==4.0.0-rc1) (2.10)\n",
            "Requirement already satisfied: rfc3986<2,>=1.3 in /usr/local/lib/python3.10/dist-packages (from httpx==0.13.3->googletrans==4.0.0-rc1) (1.5.0)\n",
            "Requirement already satisfied: httpcore==0.9.* in /usr/local/lib/python3.10/dist-packages (from httpx==0.13.3->googletrans==4.0.0-rc1) (0.9.0)\n",
            "Requirement already satisfied: h11<0.10,>=0.8 in /usr/local/lib/python3.10/dist-packages (from httpcore==0.9.*->httpx==0.13.3->googletrans==4.0.0-rc1) (0.9.0)\n",
            "Requirement already satisfied: h2==3.* in /usr/local/lib/python3.10/dist-packages (from httpcore==0.9.*->httpx==0.13.3->googletrans==4.0.0-rc1) (3.2.0)\n",
            "Requirement already satisfied: hyperframe<6,>=5.2.0 in /usr/local/lib/python3.10/dist-packages (from h2==3.*->httpcore==0.9.*->httpx==0.13.3->googletrans==4.0.0-rc1) (5.2.0)\n",
            "Requirement already satisfied: hpack<4,>=3.0 in /usr/local/lib/python3.10/dist-packages (from h2==3.*->httpcore==0.9.*->httpx==0.13.3->googletrans==4.0.0-rc1) (3.0.0)\n",
            "Requirement already satisfied: httpcore==0.9 in /usr/local/lib/python3.10/dist-packages (0.9.0)\n",
            "Requirement already satisfied: h11<0.10,>=0.8 in /usr/local/lib/python3.10/dist-packages (from httpcore==0.9) (0.9.0)\n",
            "Requirement already satisfied: h2==3.* in /usr/local/lib/python3.10/dist-packages (from httpcore==0.9) (3.2.0)\n",
            "Requirement already satisfied: sniffio==1.* in /usr/local/lib/python3.10/dist-packages (from httpcore==0.9) (1.3.0)\n",
            "Requirement already satisfied: hyperframe<6,>=5.2.0 in /usr/local/lib/python3.10/dist-packages (from h2==3.*->httpcore==0.9) (5.2.0)\n",
            "Requirement already satisfied: hpack<4,>=3.0 in /usr/local/lib/python3.10/dist-packages (from h2==3.*->httpcore==0.9) (3.0.0)\n",
            "Requirement already satisfied: Translator in /usr/local/lib/python3.10/dist-packages (0.0.9)\n",
            "Requirement already satisfied: beautifulsoup4>=4.0 in /usr/local/lib/python3.10/dist-packages (from Translator) (4.12.3)\n",
            "Requirement already satisfied: soupsieve>1.2 in /usr/local/lib/python3.10/dist-packages (from beautifulsoup4>=4.0->Translator) (2.5)\n"
          ]
        }
      ]
    },
    {
      "cell_type": "markdown",
      "source": [
        "# **To Convert Data**\n",
        "\n",
        "1. Upload a file on collab.\n",
        "2. Copy the path and paste it here.\n",
        "3. Enter your targeted language that you want.\n",
        "4. This will smootly convert into your targeted language and make changes in your file."
      ],
      "metadata": {
        "id": "4KrkR9BKAJ5s"
      }
    },
    {
      "cell_type": "code",
      "execution_count": null,
      "metadata": {
        "colab": {
          "base_uri": "https://localhost:8080/"
        },
        "id": "N8Xc-O17_IGo",
        "outputId": "77116db3-b33d-4eab-e322-a9b7d699ea02"
      },
      "outputs": [
        {
          "output_type": "stream",
          "name": "stdout",
          "text": [
            "Enter the path for the output file: /content/mydata.txt.txt\n",
            "Enter the target language code (e.g., 'es' for Spanish): hi\n",
            "File successfully translated to hi and saved to /content/mydata.txt.txt\n"
          ]
        }
      ],
      "source": [
        "\n",
        "from googletrans import Translator\n",
        "import os\n",
        "\n",
        "def translate_text(text, target_language='en'):\n",
        "    translator = Translator()\n",
        "    translated_text = translator.translate(text, dest=target_language).text\n",
        "    return translated_text\n",
        "\n",
        "def read_text_from_file(file_path):\n",
        "    with open(file_path, 'r', encoding='utf-8') as file:\n",
        "        return file.read()\n",
        "\n",
        "def write_text_to_file(file_path, text):\n",
        "    with open(file_path, 'w', encoding='utf-8') as file:\n",
        "        file.write(text)\n",
        "\n",
        "def convert_file_to_language(input_file, output_file, target_language):\n",
        "    text_to_translate = read_text_from_file(input_file)\n",
        "    translated_text = translate_text(text_to_translate, target_language)\n",
        "    write_text_to_file(output_file, translated_text)\n",
        "\n",
        "if __name__ == \"__main__\":\n",
        "    input_file_path = \"/content/mydata.txt.txt\"\n",
        "    if not os.path.isfile(input_file_path):\n",
        "        print(\"Invalid file path. Please provide a valid file path.\")\n",
        "    else:\n",
        "        output_file_path = input(\"Enter the path for the output file: \")\n",
        "        target_language = input(\"Enter the target language code ('english': 'en','spanish': 'es','french': 'fr','german': 'de','hindi': 'hi',): \")\n",
        "\n",
        "        convert_file_to_language(input_file_path, output_file_path, target_language)\n",
        "        print(f\"File successfully translated to {target_language} and saved to {output_file_path}\")\n"
      ]
    },
    {
      "cell_type": "markdown",
      "source": [
        "# **For Suggestions Aya Model**"
      ],
      "metadata": {
        "id": "djbto5rJBXV9"
      }
    },
    {
      "cell_type": "code",
      "source": [
        "import cohere\n",
        "co = cohere.Client('COHERE_API_KEY') # This is your trial API key\n",
        "response = co.generate(\n",
        "  model='c4ai-aya',\n",
        "  prompt='Come faccio a diventare migliore a sparare una palla da basket?',\n",
        "  max_tokens=300,\n",
        "  temperature=0.9,\n",
        "  k=0,\n",
        "  stop_sequences=[],\n",
        "  return_likelihoods='NONE')\n",
        "print('Prediction: {}'.format(response.generations[0].text))"
      ],
      "metadata": {
        "id": "jFRJ3-gwA-NJ"
      },
      "execution_count": null,
      "outputs": []
    },
    {
      "cell_type": "markdown",
      "source": [
        "# **For Adding url**"
      ],
      "metadata": {
        "id": "bBJcjgiFWRLG"
      }
    },
    {
      "cell_type": "code",
      "source": [
        "!pip install googletrans==4.0.0-rc1 requests\n",
        "from googletrans import Translator\n",
        "import requests\n",
        "\n",
        "def translate_text(text, target_language='en'):\n",
        "    translator = Translator()\n",
        "    translated_text = translator.translate(text, dest=target_language).text\n",
        "    return translated_text\n",
        "\n",
        "def fetch_text_from_url(url):\n",
        "    try:\n",
        "        response = requests.get(url)\n",
        "        response.raise_for_status()\n",
        "        return response.text\n",
        "    except requests.exceptions.RequestException as e:\n",
        "        print(f\"Error fetching content from URL: {e}\")\n",
        "        return None\n",
        "\n",
        "if __name__ == \"__main__\":\n",
        "    url_input = input(\"Enter the URL: \")\n",
        "\n",
        "    # Check if the input starts with \"http://\" or \"https://\"\n",
        "    if not url_input.startswith((\"http://\", \"https://\")):\n",
        "        print(\"Invalid URL format. Please provide a valid URL.\")\n",
        "    else:\n",
        "        target_language = input(\"Enter the target language code (e.g., 'en', 'es', 'fr', 'de', 'hi'): \")\n",
        "\n",
        "        text_to_translate = fetch_text_from_url(url_input)\n",
        "\n",
        "        if text_to_translate is not None:\n",
        "            try:\n",
        "                translated_text = translate_text(text_to_translate, target_language)\n",
        "                print(f\"\\nOriginal Text:\\n{text_to_translate}\\n\")\n",
        "                print(f\"Translated Text ({target_language}): {translated_text}\")\n",
        "            except Exception as e:\n",
        "                print(f\"Error translating content: {e}\")\n",
        "\n"
      ],
      "metadata": {
        "colab": {
          "base_uri": "https://localhost:8080/"
        },
        "id": "CBf9ju6ECvun",
        "outputId": "05f91727-0f5b-4d58-817e-ced03fb2d9fc"
      },
      "execution_count": null,
      "outputs": [
        {
          "output_type": "stream",
          "name": "stdout",
          "text": [
            "Requirement already satisfied: googletrans==4.0.0-rc1 in /usr/local/lib/python3.10/dist-packages (4.0.0rc1)\n",
            "Requirement already satisfied: requests in /usr/local/lib/python3.10/dist-packages (2.31.0)\n",
            "Requirement already satisfied: httpx==0.13.3 in /usr/local/lib/python3.10/dist-packages (from googletrans==4.0.0-rc1) (0.13.3)\n",
            "Requirement already satisfied: certifi in /usr/local/lib/python3.10/dist-packages (from httpx==0.13.3->googletrans==4.0.0-rc1) (2024.2.2)\n",
            "Requirement already satisfied: hstspreload in /usr/local/lib/python3.10/dist-packages (from httpx==0.13.3->googletrans==4.0.0-rc1) (2024.2.1)\n",
            "Requirement already satisfied: sniffio in /usr/local/lib/python3.10/dist-packages (from httpx==0.13.3->googletrans==4.0.0-rc1) (1.3.0)\n",
            "Requirement already satisfied: chardet==3.* in /usr/local/lib/python3.10/dist-packages (from httpx==0.13.3->googletrans==4.0.0-rc1) (3.0.4)\n",
            "Requirement already satisfied: idna==2.* in /usr/local/lib/python3.10/dist-packages (from httpx==0.13.3->googletrans==4.0.0-rc1) (2.10)\n",
            "Requirement already satisfied: rfc3986<2,>=1.3 in /usr/local/lib/python3.10/dist-packages (from httpx==0.13.3->googletrans==4.0.0-rc1) (1.5.0)\n",
            "Requirement already satisfied: httpcore==0.9.* in /usr/local/lib/python3.10/dist-packages (from httpx==0.13.3->googletrans==4.0.0-rc1) (0.9.0)\n",
            "Requirement already satisfied: h11<0.10,>=0.8 in /usr/local/lib/python3.10/dist-packages (from httpcore==0.9.*->httpx==0.13.3->googletrans==4.0.0-rc1) (0.9.0)\n",
            "Requirement already satisfied: h2==3.* in /usr/local/lib/python3.10/dist-packages (from httpcore==0.9.*->httpx==0.13.3->googletrans==4.0.0-rc1) (3.2.0)\n",
            "Requirement already satisfied: hyperframe<6,>=5.2.0 in /usr/local/lib/python3.10/dist-packages (from h2==3.*->httpcore==0.9.*->httpx==0.13.3->googletrans==4.0.0-rc1) (5.2.0)\n",
            "Requirement already satisfied: hpack<4,>=3.0 in /usr/local/lib/python3.10/dist-packages (from h2==3.*->httpcore==0.9.*->httpx==0.13.3->googletrans==4.0.0-rc1) (3.0.0)\n",
            "Requirement already satisfied: charset-normalizer<4,>=2 in /usr/local/lib/python3.10/dist-packages (from requests) (3.3.2)\n",
            "Requirement already satisfied: urllib3<3,>=1.21.1 in /usr/local/lib/python3.10/dist-packages (from requests) (2.0.7)\n",
            "Enter the URL: https://www.researchgate.net/profile/Yi-Wei-22/publication/224187646_Blake_MB_Service-oriented_Computing_and_Cloud_Computing_Challenges_and_Opportunities_IEEE_Internet_Computing_146_72-75/links/0deec53909d346dc6a000000/Blake-MB-Service-oriented-Computing-and-Cloud-Computing-Challenges-and-Opportunities-IEEE-Internet-Computing-146-72-75.pdf\n",
            "Enter the target language code (e.g., 'en', 'es', 'fr', 'de', 'hi'): hi\n",
            "Error fetching content from URL: 403 Client Error: Forbidden for url: https://www.researchgate.net/profile/Yi-Wei-22/publication/224187646_Blake_MB_Service-oriented_Computing_and_Cloud_Computing_Challenges_and_Opportunities_IEEE_Internet_Computing_146_72-75/links/0deec53909d346dc6a000000/Blake-MB-Service-oriented-Computing-and-Cloud-Computing-Challenges-and-Opportunities-IEEE-Internet-Computing-146-72-75.pdf\n"
          ]
        }
      ]
    }
  ]
}